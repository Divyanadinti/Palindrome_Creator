{
 "cells": [
  {
   "cell_type": "markdown",
   "id": "aadd24ec",
   "metadata": {},
   "source": [
    "Have the function PalindromeCreator(str) take the str parameter being passed and determine if it is possible to create a palindromic string of minimum length 3 characters by removing 1 or 2 characters. For example: if str is \"abjchba\" then you can remove the characters jc to produce \"abhba\" which is a palindrome. For this example your program should return the two characters that were removed with no delimiter and in the order they appear in the string, so jc. If 1 or 2 characters cannot be removed to produce a palindrome, then return the string not possible.\n",
    "\n",
    "If the input string is already a palindrome, your program should return the string palindrome. Your program should always remove the characters that appear earlier in the string. In the example above, you can also remove ch to form a palindrome but jc appears first, so the correct answer is jc.\n",
    "\n",
    "The input will only contain lowercase alphabetic characters. Your program should always attempt to create the longest palindromic substring by removing 1 or 2 characters (see second sample test case as an example). The 2 characters you remove do not have to be adjacent in the string."
   ]
  },
  {
   "cell_type": "code",
   "execution_count": 1,
   "id": "7b15feba",
   "metadata": {},
   "outputs": [
    {
     "name": "stdout",
     "output_type": "stream",
     "text": [
      "jc\n",
      "op\n",
      "palindrome\n",
      "c\n",
      "palindrome\n"
     ]
    }
   ],
   "source": [
    "def is_palindrome(s):\n",
    "    # Helper function to check if a string is a palindrome\n",
    "    return s == s[::-1]\n",
    "\n",
    "def PalindromeCreator(s):\n",
    "    # Step 1: Check if the string is already a palindrome\n",
    "    if is_palindrome(s):\n",
    "        return \"palindrome\"\n",
    "\n",
    "    # Step 2: Check if removing one character can form a palindrome\n",
    "    for i in range(len(s)):\n",
    "        modified_str = s[:i] + s[i+1:]  # Remove one character\n",
    "        if is_palindrome(modified_str):\n",
    "            return s[i]  # Return the removed character\n",
    "\n",
    "    # Step 3: Check if removing two characters can form a palindrome\n",
    "    for i in range(len(s)):\n",
    "        for j in range(i + 1, len(s)):\n",
    "            modified_str = s[:i] + s[i+1:j] + s[j+1:]  # Remove two characters\n",
    "            if is_palindrome(modified_str):\n",
    "                return s[i] + s[j]  # Return the removed characters\n",
    "\n",
    "    # Step 4: If no valid palindrome can be created\n",
    "    return \"not possible\"\n",
    "\n",
    "# Example usage\n",
    "print(PalindromeCreator(\"abjchba\"))  \n",
    "print(PalindromeCreator(\"mmop\"))     \n",
    "print(PalindromeCreator(\"racecar\"))  \n",
    "print(PalindromeCreator(\"abac\"))     \n",
    "print(PalindromeCreator(\"abcba\"))"
   ]
  },
  {
   "cell_type": "code",
   "execution_count": null,
   "id": "f7182817",
   "metadata": {},
   "outputs": [],
   "source": []
  }
 ],
 "metadata": {
  "kernelspec": {
   "display_name": "Python 3 (ipykernel)",
   "language": "python",
   "name": "python3"
  },
  "language_info": {
   "codemirror_mode": {
    "name": "ipython",
    "version": 3
   },
   "file_extension": ".py",
   "mimetype": "text/x-python",
   "name": "python",
   "nbconvert_exporter": "python",
   "pygments_lexer": "ipython3",
   "version": "3.10.9"
  }
 },
 "nbformat": 4,
 "nbformat_minor": 5
}
